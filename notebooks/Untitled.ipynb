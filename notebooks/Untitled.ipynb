{
 "cells": [
  {
   "cell_type": "code",
   "execution_count": 1,
   "metadata": {},
   "outputs": [],
   "source": [
    "from math import sqrt\n",
    "from sklearn.datasets import load_iris\n",
    "from sklearn.externals.joblib import Parallel,delayed\n",
    "from sklearn.ensemble import RandomForestClassifier\n",
    "import pandas as pd\n",
    "import numpy as np\n",
    "from numpy import random\n",
    "from sklearn.utils import check_random_state\n",
    "from ml_tooling import BaseClassModel\n",
    "from ml_tooling.utils import get_scoring_func, permutation_importances"
   ]
  },
  {
   "cell_type": "code",
   "execution_count": 2,
   "metadata": {},
   "outputs": [],
   "source": [
    "class IrisModel(BaseClassModel):\n",
    "    def get_training_data(self):\n",
    "        data = load_iris()\n",
    "        return pd.DataFrame(data=data.data, columns=data.feature_names), data.target\n",
    "    \n",
    "    def get_prediction_data(self):\n",
    "        pass"
   ]
  },
  {
   "cell_type": "code",
   "execution_count": 3,
   "metadata": {},
   "outputs": [],
   "source": [
    "rf_clf = IrisModel(RandomForestClassifier(n_estimators=10, random_state=42))"
   ]
  },
  {
   "cell_type": "code",
   "execution_count": 4,
   "metadata": {},
   "outputs": [
    {
     "name": "stderr",
     "output_type": "stream",
     "text": [
      "[11:06:12] - Scoring model...\n",
      "[11:06:12] - RandomForestClassifier - accuracy: 0.9210526315789473\n"
     ]
    }
   ],
   "source": [
    "results = rf_clf.score_model()"
   ]
  },
  {
   "cell_type": "code",
   "execution_count": 8,
   "metadata": {},
   "outputs": [
    {
     "data": {
      "text/plain": [
       "<Config: \n",
       "VERBOSITY: 0\n",
       "CLASSIFIER_METRIC: accuracy\n",
       "REGRESSION_METRIC: r2\n",
       "CROSS_VALIDATION: 10\n",
       "STYLE_SHEET: c:\\users\\abthhk\\pycharmprojects\\ml_utils\\ml_tooling\\src\\ml_tooling\\almbrand.mplstyle\n",
       "N_JOBS: -1\n",
       "TEST_SIZE: 0.25\n",
       "RANDOM_STATE: 42\n",
       "RUN_DIR: C:\\Users\\abthhk\\PycharmProjects\\ml_utils\\ml_tooling\\notebooks\\runs\n",
       "MODEL_DIR: C:\\Users\\abthhk\\PycharmProjects\\ml_utils\\ml_tooling\\notebooks\\models\n",
       "LOG: False\n",
       ">"
      ]
     },
     "execution_count": 8,
     "metadata": {},
     "output_type": "execute_result"
    }
   ],
   "source": [
    "results.plot._config"
   ]
  },
  {
   "cell_type": "code",
   "execution_count": 6,
   "metadata": {},
   "outputs": [
    {
     "data": {
      "text/html": [
       "<div>\n",
       "<style scoped>\n",
       "    .dataframe tbody tr th:only-of-type {\n",
       "        vertical-align: middle;\n",
       "    }\n",
       "\n",
       "    .dataframe tbody tr th {\n",
       "        vertical-align: top;\n",
       "    }\n",
       "\n",
       "    .dataframe thead th {\n",
       "        text-align: right;\n",
       "    }\n",
       "</style>\n",
       "<table border=\"1\" class=\"dataframe\">\n",
       "  <thead>\n",
       "    <tr style=\"text-align: right;\">\n",
       "      <th></th>\n",
       "      <th>Importance</th>\n",
       "    </tr>\n",
       "  </thead>\n",
       "  <tbody>\n",
       "    <tr>\n",
       "      <th>sepal length (cm)</th>\n",
       "      <td>0.01855</td>\n",
       "    </tr>\n",
       "    <tr>\n",
       "      <th>sepal width (cm)</th>\n",
       "      <td>0.01025</td>\n",
       "    </tr>\n",
       "    <tr>\n",
       "      <th>petal length (cm)</th>\n",
       "      <td>0.21764</td>\n",
       "    </tr>\n",
       "    <tr>\n",
       "      <th>petal width (cm)</th>\n",
       "      <td>0.22626</td>\n",
       "    </tr>\n",
       "  </tbody>\n",
       "</table>\n",
       "</div>"
      ],
      "text/plain": [
       "                   Importance\n",
       "sepal length (cm)     0.01855\n",
       "sepal width (cm)      0.01025\n",
       "petal length (cm)     0.21764\n",
       "petal width (cm)      0.22626"
      ]
     },
     "execution_count": 6,
     "metadata": {},
     "output_type": "execute_result"
    }
   ],
   "source": [
    "permutation_importances(results,n_samples=100000)"
   ]
  },
  {
   "cell_type": "code",
   "execution_count": 10,
   "metadata": {},
   "outputs": [
    {
     "name": "stdout",
     "output_type": "stream",
     "text": [
      "2\n"
     ]
    }
   ],
   "source": [
    "if not None:\n",
    "    print(2)"
   ]
  },
  {
   "cell_type": "code",
   "execution_count": 5,
   "metadata": {},
   "outputs": [],
   "source": [
    "train_x_ = rf_clf.data.train_x.copy()\n",
    "train_y_ = rf_clf.data.train_y.copy()"
   ]
  },
  {
   "cell_type": "code",
   "execution_count": 6,
   "metadata": {},
   "outputs": [
    {
     "data": {
      "text/plain": [
       "0.9910714285714286"
      ]
     },
     "execution_count": 6,
     "metadata": {},
     "output_type": "execute_result"
    }
   ],
   "source": [
    "get_scoring_func(rf_clf.default_metric)(rf_clf.model,train_x_,train_y_)"
   ]
  },
  {
   "cell_type": "code",
   "execution_count": 7,
   "metadata": {},
   "outputs": [
    {
     "name": "stdout",
     "output_type": "stream",
     "text": [
      "sepal length (cm)\n",
      "sepal width (cm)\n",
      "petal length (cm)\n",
      "petal width (cm)\n"
     ]
    },
    {
     "data": {
      "text/plain": [
       "0.9642857142857143"
      ]
     },
     "execution_count": 7,
     "metadata": {},
     "output_type": "execute_result"
    }
   ],
   "source": [
    "_feature_importance_permutation(results)"
   ]
  },
  {
   "cell_type": "code",
   "execution_count": 9,
   "metadata": {},
   "outputs": [],
   "source": [
    "n_samples=len(X)\n",
    "n_iter = 2\n",
    "X_copy = X.copy()"
   ]
  },
  {
   "cell_type": "code",
   "execution_count": 10,
   "metadata": {},
   "outputs": [],
   "source": [
    "random_state=42\n",
    "random_instance = check_random_state(random_state)\n",
    "sample_indices = random_instance.randint(0, n_samples,n_samples)"
   ]
  },
  {
   "cell_type": "code",
   "execution_count": 11,
   "metadata": {},
   "outputs": [
    {
     "data": {
      "text/plain": [
       "array([102,  92,  14, 106,  71,  20, 102, 121,  74,  87, 116,  99, 103,\n",
       "       130, 149,  52,   1,  87,  37, 129,  20,  57,  21,  88,  48,  58,\n",
       "        14,  50, 107,  54,  63, 130,  50, 134,  20,  72,  17, 131,  88,\n",
       "        59,  13,   8,  89,  52, 129,  83,  91, 110,   7,  34,  80,  49,\n",
       "       103, 131,   1, 133,  53, 105,   3,  53, 145,  43,  13,  94,  47,\n",
       "        14,  39,  81, 110,  52,  23, 123,  40,  14,  44,  64,  88,  70,\n",
       "         8,  87, 128, 135,  62, 138,  80, 135,  32, 122,   4,  40,  27,\n",
       "       134,  71,  11,  32,  47,  61,  36,  98, 103,  34, 100, 130,   0,\n",
       "         4, 141, 102,  26, 136,  14,  89,  41, 123,  62,  95,  51,  95,\n",
       "       131, 142,  28,  35,  12,  70,  85,  27,  65,  44,  61, 133,  27,\n",
       "        27, 107,  43,  83,  29,  74, 127,  91, 128, 120,  26, 120, 115,\n",
       "         2, 102, 136,  61,  50,  58, 117])"
      ]
     },
     "execution_count": 11,
     "metadata": {},
     "output_type": "execute_result"
    }
   ],
   "source": [
    "sample_indices"
   ]
  },
  {
   "cell_type": "code",
   "execution_count": 27,
   "metadata": {},
   "outputs": [],
   "source": [
    "def generate_sample_indices(random_state, n_samples):\n",
    "    \"\"\"Private function used to _parallel_build_trees function.\"\"\"\n",
    "    random_instance = check_random_state(random_state)\n",
    "    sample_indices = random_instance.randint(0, n_samples, n_samples)\n",
    "\n",
    "    return sample_indices\n",
    "\n",
    "\n",
    "def find_unsampled_indices(sample_indices, n_samples):\n",
    "    \"\"\"Private function used to forest._set_oob_score function.\"\"\"\n",
    "    sample_counts = np.bincount(sample_indices, minlength=n_samples)\n",
    "    unsampled_mask = sample_counts == 0\n",
    "    indices_range = np.arange(n_samples)\n",
    "    unsampled_indices = indices_range[unsampled_mask]\n",
    "\n",
    "    return unsampled_indices"
   ]
  },
  {
   "cell_type": "code",
   "execution_count": 31,
   "metadata": {},
   "outputs": [],
   "source": [
    "indicies = generate_sample_indices(23,10)"
   ]
  },
  {
   "cell_type": "code",
   "execution_count": 32,
   "metadata": {},
   "outputs": [
    {
     "data": {
      "text/plain": [
       "array([0, 1, 2, 4, 5])"
      ]
     },
     "execution_count": 32,
     "metadata": {},
     "output_type": "execute_result"
    }
   ],
   "source": [
    "find_unsampled_indices(indicies,10)"
   ]
  },
  {
   "cell_type": "code",
   "execution_count": 13,
   "metadata": {},
   "outputs": [
    {
     "data": {
      "text/plain": [
       "102    7.1\n",
       "92     5.8\n",
       "14     5.8\n",
       "106    4.9\n",
       "71     6.1\n",
       "20     5.4\n",
       "102    7.1\n",
       "121    5.6\n",
       "74     6.4\n",
       "87     6.3\n",
       "116    6.5\n",
       "99     5.7\n",
       "103    6.3\n",
       "130    7.4\n",
       "149    5.9\n",
       "52     6.9\n",
       "1      4.9\n",
       "87     6.3\n",
       "37     4.9\n",
       "129    7.2\n",
       "20     5.4\n",
       "57     4.9\n",
       "21     5.1\n",
       "88     5.6\n",
       "48     5.3\n",
       "58     6.6\n",
       "14     5.8\n",
       "50     7.0\n",
       "107    7.3\n",
       "54     6.5\n",
       "      ... \n",
       "35     5.0\n",
       "12     4.8\n",
       "70     5.9\n",
       "85     6.0\n",
       "27     5.2\n",
       "65     6.7\n",
       "44     5.1\n",
       "61     5.9\n",
       "133    6.3\n",
       "27     5.2\n",
       "27     5.2\n",
       "107    7.3\n",
       "43     5.0\n",
       "83     6.0\n",
       "29     4.7\n",
       "74     6.4\n",
       "127    6.1\n",
       "91     6.1\n",
       "128    6.4\n",
       "120    6.9\n",
       "26     5.0\n",
       "120    6.9\n",
       "115    6.4\n",
       "2      4.7\n",
       "102    7.1\n",
       "136    6.3\n",
       "61     5.9\n",
       "50     7.0\n",
       "58     6.6\n",
       "117    7.7\n",
       "Name: sepal length (cm), Length: 150, dtype: float64"
      ]
     },
     "execution_count": 13,
     "metadata": {},
     "output_type": "execute_result"
    }
   ],
   "source": [
    "X_copy.iloc[sample_indices,0]"
   ]
  },
  {
   "cell_type": "code",
   "execution_count": null,
   "metadata": {},
   "outputs": [],
   "source": []
  },
  {
   "cell_type": "code",
   "execution_count": 72,
   "metadata": {},
   "outputs": [
    {
     "ename": "ValueError",
     "evalue": "cannot reindex from a duplicate axis",
     "output_type": "error",
     "traceback": [
      "\u001b[1;31m---------------------------------------------------------------------------\u001b[0m",
      "\u001b[1;31mValueError\u001b[0m                                Traceback (most recent call last)",
      "\u001b[1;32m<ipython-input-72-2f4af8782f40>\u001b[0m in \u001b[0;36m<module>\u001b[1;34m\u001b[0m\n\u001b[1;32m----> 1\u001b[1;33m \u001b[0mX_copy\u001b[0m\u001b[1;33m[\u001b[0m\u001b[0mX_copy\u001b[0m\u001b[1;33m.\u001b[0m\u001b[0mcolumns\u001b[0m\u001b[1;33m[\u001b[0m\u001b[1;36m1\u001b[0m\u001b[1;33m]\u001b[0m\u001b[1;33m]\u001b[0m\u001b[1;33m=\u001b[0m\u001b[0mX_copy\u001b[0m\u001b[1;33m.\u001b[0m\u001b[0miloc\u001b[0m\u001b[1;33m[\u001b[0m\u001b[0msample_indices\u001b[0m\u001b[1;33m,\u001b[0m\u001b[1;36m0\u001b[0m\u001b[1;33m]\u001b[0m\u001b[1;33m\u001b[0m\u001b[0m\n\u001b[0m",
      "\u001b[1;32m~\\AppData\\Local\\Continuum\\miniconda3\\envs\\ml_tooling\\lib\\site-packages\\pandas\\core\\frame.py\u001b[0m in \u001b[0;36m__setitem__\u001b[1;34m(self, key, value)\u001b[0m\n\u001b[0;32m   3117\u001b[0m         \u001b[1;32melse\u001b[0m\u001b[1;33m:\u001b[0m\u001b[1;33m\u001b[0m\u001b[0m\n\u001b[0;32m   3118\u001b[0m             \u001b[1;31m# set column\u001b[0m\u001b[1;33m\u001b[0m\u001b[1;33m\u001b[0m\u001b[0m\n\u001b[1;32m-> 3119\u001b[1;33m             \u001b[0mself\u001b[0m\u001b[1;33m.\u001b[0m\u001b[0m_set_item\u001b[0m\u001b[1;33m(\u001b[0m\u001b[0mkey\u001b[0m\u001b[1;33m,\u001b[0m \u001b[0mvalue\u001b[0m\u001b[1;33m)\u001b[0m\u001b[1;33m\u001b[0m\u001b[0m\n\u001b[0m\u001b[0;32m   3120\u001b[0m \u001b[1;33m\u001b[0m\u001b[0m\n\u001b[0;32m   3121\u001b[0m     \u001b[1;32mdef\u001b[0m \u001b[0m_setitem_slice\u001b[0m\u001b[1;33m(\u001b[0m\u001b[0mself\u001b[0m\u001b[1;33m,\u001b[0m \u001b[0mkey\u001b[0m\u001b[1;33m,\u001b[0m \u001b[0mvalue\u001b[0m\u001b[1;33m)\u001b[0m\u001b[1;33m:\u001b[0m\u001b[1;33m\u001b[0m\u001b[0m\n",
      "\u001b[1;32m~\\AppData\\Local\\Continuum\\miniconda3\\envs\\ml_tooling\\lib\\site-packages\\pandas\\core\\frame.py\u001b[0m in \u001b[0;36m_set_item\u001b[1;34m(self, key, value)\u001b[0m\n\u001b[0;32m   3192\u001b[0m \u001b[1;33m\u001b[0m\u001b[0m\n\u001b[0;32m   3193\u001b[0m         \u001b[0mself\u001b[0m\u001b[1;33m.\u001b[0m\u001b[0m_ensure_valid_index\u001b[0m\u001b[1;33m(\u001b[0m\u001b[0mvalue\u001b[0m\u001b[1;33m)\u001b[0m\u001b[1;33m\u001b[0m\u001b[0m\n\u001b[1;32m-> 3194\u001b[1;33m         \u001b[0mvalue\u001b[0m \u001b[1;33m=\u001b[0m \u001b[0mself\u001b[0m\u001b[1;33m.\u001b[0m\u001b[0m_sanitize_column\u001b[0m\u001b[1;33m(\u001b[0m\u001b[0mkey\u001b[0m\u001b[1;33m,\u001b[0m \u001b[0mvalue\u001b[0m\u001b[1;33m)\u001b[0m\u001b[1;33m\u001b[0m\u001b[0m\n\u001b[0m\u001b[0;32m   3195\u001b[0m         \u001b[0mNDFrame\u001b[0m\u001b[1;33m.\u001b[0m\u001b[0m_set_item\u001b[0m\u001b[1;33m(\u001b[0m\u001b[0mself\u001b[0m\u001b[1;33m,\u001b[0m \u001b[0mkey\u001b[0m\u001b[1;33m,\u001b[0m \u001b[0mvalue\u001b[0m\u001b[1;33m)\u001b[0m\u001b[1;33m\u001b[0m\u001b[0m\n\u001b[0;32m   3196\u001b[0m \u001b[1;33m\u001b[0m\u001b[0m\n",
      "\u001b[1;32m~\\AppData\\Local\\Continuum\\miniconda3\\envs\\ml_tooling\\lib\\site-packages\\pandas\\core\\frame.py\u001b[0m in \u001b[0;36m_sanitize_column\u001b[1;34m(self, key, value, broadcast)\u001b[0m\n\u001b[0;32m   3364\u001b[0m \u001b[1;33m\u001b[0m\u001b[0m\n\u001b[0;32m   3365\u001b[0m         \u001b[1;32mif\u001b[0m \u001b[0misinstance\u001b[0m\u001b[1;33m(\u001b[0m\u001b[0mvalue\u001b[0m\u001b[1;33m,\u001b[0m \u001b[0mSeries\u001b[0m\u001b[1;33m)\u001b[0m\u001b[1;33m:\u001b[0m\u001b[1;33m\u001b[0m\u001b[0m\n\u001b[1;32m-> 3366\u001b[1;33m             \u001b[0mvalue\u001b[0m \u001b[1;33m=\u001b[0m \u001b[0mreindexer\u001b[0m\u001b[1;33m(\u001b[0m\u001b[0mvalue\u001b[0m\u001b[1;33m)\u001b[0m\u001b[1;33m\u001b[0m\u001b[0m\n\u001b[0m\u001b[0;32m   3367\u001b[0m \u001b[1;33m\u001b[0m\u001b[0m\n\u001b[0;32m   3368\u001b[0m         \u001b[1;32melif\u001b[0m \u001b[0misinstance\u001b[0m\u001b[1;33m(\u001b[0m\u001b[0mvalue\u001b[0m\u001b[1;33m,\u001b[0m \u001b[0mDataFrame\u001b[0m\u001b[1;33m)\u001b[0m\u001b[1;33m:\u001b[0m\u001b[1;33m\u001b[0m\u001b[0m\n",
      "\u001b[1;32m~\\AppData\\Local\\Continuum\\miniconda3\\envs\\ml_tooling\\lib\\site-packages\\pandas\\core\\frame.py\u001b[0m in \u001b[0;36mreindexer\u001b[1;34m(value)\u001b[0m\n\u001b[0;32m   3356\u001b[0m                     \u001b[1;31m# duplicate axis\u001b[0m\u001b[1;33m\u001b[0m\u001b[1;33m\u001b[0m\u001b[0m\n\u001b[0;32m   3357\u001b[0m                     \u001b[1;32mif\u001b[0m \u001b[1;32mnot\u001b[0m \u001b[0mvalue\u001b[0m\u001b[1;33m.\u001b[0m\u001b[0mindex\u001b[0m\u001b[1;33m.\u001b[0m\u001b[0mis_unique\u001b[0m\u001b[1;33m:\u001b[0m\u001b[1;33m\u001b[0m\u001b[0m\n\u001b[1;32m-> 3358\u001b[1;33m                         \u001b[1;32mraise\u001b[0m \u001b[0me\u001b[0m\u001b[1;33m\u001b[0m\u001b[0m\n\u001b[0m\u001b[0;32m   3359\u001b[0m \u001b[1;33m\u001b[0m\u001b[0m\n\u001b[0;32m   3360\u001b[0m                     \u001b[1;31m# other\u001b[0m\u001b[1;33m\u001b[0m\u001b[1;33m\u001b[0m\u001b[0m\n",
      "\u001b[1;32m~\\AppData\\Local\\Continuum\\miniconda3\\envs\\ml_tooling\\lib\\site-packages\\pandas\\core\\frame.py\u001b[0m in \u001b[0;36mreindexer\u001b[1;34m(value)\u001b[0m\n\u001b[0;32m   3351\u001b[0m                 \u001b[1;31m# GH 4107\u001b[0m\u001b[1;33m\u001b[0m\u001b[1;33m\u001b[0m\u001b[0m\n\u001b[0;32m   3352\u001b[0m                 \u001b[1;32mtry\u001b[0m\u001b[1;33m:\u001b[0m\u001b[1;33m\u001b[0m\u001b[0m\n\u001b[1;32m-> 3353\u001b[1;33m                     \u001b[0mvalue\u001b[0m \u001b[1;33m=\u001b[0m \u001b[0mvalue\u001b[0m\u001b[1;33m.\u001b[0m\u001b[0mreindex\u001b[0m\u001b[1;33m(\u001b[0m\u001b[0mself\u001b[0m\u001b[1;33m.\u001b[0m\u001b[0mindex\u001b[0m\u001b[1;33m)\u001b[0m\u001b[1;33m.\u001b[0m\u001b[0m_values\u001b[0m\u001b[1;33m\u001b[0m\u001b[0m\n\u001b[0m\u001b[0;32m   3354\u001b[0m                 \u001b[1;32mexcept\u001b[0m \u001b[0mException\u001b[0m \u001b[1;32mas\u001b[0m \u001b[0me\u001b[0m\u001b[1;33m:\u001b[0m\u001b[1;33m\u001b[0m\u001b[0m\n\u001b[0;32m   3355\u001b[0m \u001b[1;33m\u001b[0m\u001b[0m\n",
      "\u001b[1;32m~\\AppData\\Local\\Continuum\\miniconda3\\envs\\ml_tooling\\lib\\site-packages\\pandas\\core\\series.py\u001b[0m in \u001b[0;36mreindex\u001b[1;34m(self, index, **kwargs)\u001b[0m\n\u001b[0;32m   3323\u001b[0m     \u001b[1;33m@\u001b[0m\u001b[0mAppender\u001b[0m\u001b[1;33m(\u001b[0m\u001b[0mgeneric\u001b[0m\u001b[1;33m.\u001b[0m\u001b[0m_shared_docs\u001b[0m\u001b[1;33m[\u001b[0m\u001b[1;34m'reindex'\u001b[0m\u001b[1;33m]\u001b[0m \u001b[1;33m%\u001b[0m \u001b[0m_shared_doc_kwargs\u001b[0m\u001b[1;33m)\u001b[0m\u001b[1;33m\u001b[0m\u001b[0m\n\u001b[0;32m   3324\u001b[0m     \u001b[1;32mdef\u001b[0m \u001b[0mreindex\u001b[0m\u001b[1;33m(\u001b[0m\u001b[0mself\u001b[0m\u001b[1;33m,\u001b[0m \u001b[0mindex\u001b[0m\u001b[1;33m=\u001b[0m\u001b[1;32mNone\u001b[0m\u001b[1;33m,\u001b[0m \u001b[1;33m**\u001b[0m\u001b[0mkwargs\u001b[0m\u001b[1;33m)\u001b[0m\u001b[1;33m:\u001b[0m\u001b[1;33m\u001b[0m\u001b[0m\n\u001b[1;32m-> 3325\u001b[1;33m         \u001b[1;32mreturn\u001b[0m \u001b[0msuper\u001b[0m\u001b[1;33m(\u001b[0m\u001b[0mSeries\u001b[0m\u001b[1;33m,\u001b[0m \u001b[0mself\u001b[0m\u001b[1;33m)\u001b[0m\u001b[1;33m.\u001b[0m\u001b[0mreindex\u001b[0m\u001b[1;33m(\u001b[0m\u001b[0mindex\u001b[0m\u001b[1;33m=\u001b[0m\u001b[0mindex\u001b[0m\u001b[1;33m,\u001b[0m \u001b[1;33m**\u001b[0m\u001b[0mkwargs\u001b[0m\u001b[1;33m)\u001b[0m\u001b[1;33m\u001b[0m\u001b[0m\n\u001b[0m\u001b[0;32m   3326\u001b[0m \u001b[1;33m\u001b[0m\u001b[0m\n\u001b[0;32m   3327\u001b[0m     def drop(self, labels=None, axis=0, index=None, columns=None,\n",
      "\u001b[1;32m~\\AppData\\Local\\Continuum\\miniconda3\\envs\\ml_tooling\\lib\\site-packages\\pandas\\core\\generic.py\u001b[0m in \u001b[0;36mreindex\u001b[1;34m(self, *args, **kwargs)\u001b[0m\n\u001b[0;32m   3687\u001b[0m         \u001b[1;31m# perform the reindex on the axes\u001b[0m\u001b[1;33m\u001b[0m\u001b[1;33m\u001b[0m\u001b[0m\n\u001b[0;32m   3688\u001b[0m         return self._reindex_axes(axes, level, limit, tolerance, method,\n\u001b[1;32m-> 3689\u001b[1;33m                                   fill_value, copy).__finalize__(self)\n\u001b[0m\u001b[0;32m   3690\u001b[0m \u001b[1;33m\u001b[0m\u001b[0m\n\u001b[0;32m   3691\u001b[0m     def _reindex_axes(self, axes, level, limit, tolerance, method, fill_value,\n",
      "\u001b[1;32m~\\AppData\\Local\\Continuum\\miniconda3\\envs\\ml_tooling\\lib\\site-packages\\pandas\\core\\generic.py\u001b[0m in \u001b[0;36m_reindex_axes\u001b[1;34m(self, axes, level, limit, tolerance, method, fill_value, copy)\u001b[0m\n\u001b[0;32m   3705\u001b[0m             obj = obj._reindex_with_indexers({axis: [new_index, indexer]},\n\u001b[0;32m   3706\u001b[0m                                              \u001b[0mfill_value\u001b[0m\u001b[1;33m=\u001b[0m\u001b[0mfill_value\u001b[0m\u001b[1;33m,\u001b[0m\u001b[1;33m\u001b[0m\u001b[0m\n\u001b[1;32m-> 3707\u001b[1;33m                                              copy=copy, allow_dups=False)\n\u001b[0m\u001b[0;32m   3708\u001b[0m \u001b[1;33m\u001b[0m\u001b[0m\n\u001b[0;32m   3709\u001b[0m         \u001b[1;32mreturn\u001b[0m \u001b[0mobj\u001b[0m\u001b[1;33m\u001b[0m\u001b[0m\n",
      "\u001b[1;32m~\\AppData\\Local\\Continuum\\miniconda3\\envs\\ml_tooling\\lib\\site-packages\\pandas\\core\\generic.py\u001b[0m in \u001b[0;36m_reindex_with_indexers\u001b[1;34m(self, reindexers, fill_value, copy, allow_dups)\u001b[0m\n\u001b[0;32m   3808\u001b[0m                                                 \u001b[0mfill_value\u001b[0m\u001b[1;33m=\u001b[0m\u001b[0mfill_value\u001b[0m\u001b[1;33m,\u001b[0m\u001b[1;33m\u001b[0m\u001b[0m\n\u001b[0;32m   3809\u001b[0m                                                 \u001b[0mallow_dups\u001b[0m\u001b[1;33m=\u001b[0m\u001b[0mallow_dups\u001b[0m\u001b[1;33m,\u001b[0m\u001b[1;33m\u001b[0m\u001b[0m\n\u001b[1;32m-> 3810\u001b[1;33m                                                 copy=copy)\n\u001b[0m\u001b[0;32m   3811\u001b[0m \u001b[1;33m\u001b[0m\u001b[0m\n\u001b[0;32m   3812\u001b[0m         \u001b[1;32mif\u001b[0m \u001b[0mcopy\u001b[0m \u001b[1;32mand\u001b[0m \u001b[0mnew_data\u001b[0m \u001b[1;32mis\u001b[0m \u001b[0mself\u001b[0m\u001b[1;33m.\u001b[0m\u001b[0m_data\u001b[0m\u001b[1;33m:\u001b[0m\u001b[1;33m\u001b[0m\u001b[0m\n",
      "\u001b[1;32m~\\AppData\\Local\\Continuum\\miniconda3\\envs\\ml_tooling\\lib\\site-packages\\pandas\\core\\internals.py\u001b[0m in \u001b[0;36mreindex_indexer\u001b[1;34m(self, new_axis, indexer, axis, fill_value, allow_dups, copy)\u001b[0m\n\u001b[0;32m   4412\u001b[0m         \u001b[1;31m# some axes don't allow reindexing with dups\u001b[0m\u001b[1;33m\u001b[0m\u001b[1;33m\u001b[0m\u001b[0m\n\u001b[0;32m   4413\u001b[0m         \u001b[1;32mif\u001b[0m \u001b[1;32mnot\u001b[0m \u001b[0mallow_dups\u001b[0m\u001b[1;33m:\u001b[0m\u001b[1;33m\u001b[0m\u001b[0m\n\u001b[1;32m-> 4414\u001b[1;33m             \u001b[0mself\u001b[0m\u001b[1;33m.\u001b[0m\u001b[0maxes\u001b[0m\u001b[1;33m[\u001b[0m\u001b[0maxis\u001b[0m\u001b[1;33m]\u001b[0m\u001b[1;33m.\u001b[0m\u001b[0m_can_reindex\u001b[0m\u001b[1;33m(\u001b[0m\u001b[0mindexer\u001b[0m\u001b[1;33m)\u001b[0m\u001b[1;33m\u001b[0m\u001b[0m\n\u001b[0m\u001b[0;32m   4415\u001b[0m \u001b[1;33m\u001b[0m\u001b[0m\n\u001b[0;32m   4416\u001b[0m         \u001b[1;32mif\u001b[0m \u001b[0maxis\u001b[0m \u001b[1;33m>=\u001b[0m \u001b[0mself\u001b[0m\u001b[1;33m.\u001b[0m\u001b[0mndim\u001b[0m\u001b[1;33m:\u001b[0m\u001b[1;33m\u001b[0m\u001b[0m\n",
      "\u001b[1;32m~\\AppData\\Local\\Continuum\\miniconda3\\envs\\ml_tooling\\lib\\site-packages\\pandas\\core\\indexes\\base.py\u001b[0m in \u001b[0;36m_can_reindex\u001b[1;34m(self, indexer)\u001b[0m\n\u001b[0;32m   3574\u001b[0m         \u001b[1;31m# trying to reindex on an axis with duplicates\u001b[0m\u001b[1;33m\u001b[0m\u001b[1;33m\u001b[0m\u001b[0m\n\u001b[0;32m   3575\u001b[0m         \u001b[1;32mif\u001b[0m \u001b[1;32mnot\u001b[0m \u001b[0mself\u001b[0m\u001b[1;33m.\u001b[0m\u001b[0mis_unique\u001b[0m \u001b[1;32mand\u001b[0m \u001b[0mlen\u001b[0m\u001b[1;33m(\u001b[0m\u001b[0mindexer\u001b[0m\u001b[1;33m)\u001b[0m\u001b[1;33m:\u001b[0m\u001b[1;33m\u001b[0m\u001b[0m\n\u001b[1;32m-> 3576\u001b[1;33m             \u001b[1;32mraise\u001b[0m \u001b[0mValueError\u001b[0m\u001b[1;33m(\u001b[0m\u001b[1;34m\"cannot reindex from a duplicate axis\"\u001b[0m\u001b[1;33m)\u001b[0m\u001b[1;33m\u001b[0m\u001b[0m\n\u001b[0m\u001b[0;32m   3577\u001b[0m \u001b[1;33m\u001b[0m\u001b[0m\n\u001b[0;32m   3578\u001b[0m     def reindex(self, target, method=None, level=None, limit=None,\n",
      "\u001b[1;31mValueError\u001b[0m: cannot reindex from a duplicate axis"
     ]
    }
   ],
   "source": [
    "X_copy[X_copy.columns[1]]=X_copy.iloc[sample_indices,0]"
   ]
  },
  {
   "cell_type": "code",
   "execution_count": 67,
   "metadata": {},
   "outputs": [
    {
     "data": {
      "text/plain": [
       "0      5.1\n",
       "1      4.9\n",
       "2      4.7\n",
       "3      4.6\n",
       "4      5.0\n",
       "5      5.4\n",
       "6      4.6\n",
       "7      5.0\n",
       "8      4.4\n",
       "9      4.9\n",
       "10     5.4\n",
       "11     4.8\n",
       "12     4.8\n",
       "13     4.3\n",
       "14     5.8\n",
       "15     5.7\n",
       "16     5.4\n",
       "17     5.1\n",
       "18     5.7\n",
       "19     5.1\n",
       "20     5.4\n",
       "21     5.1\n",
       "22     4.6\n",
       "23     5.1\n",
       "24     4.8\n",
       "25     5.0\n",
       "26     5.0\n",
       "27     5.2\n",
       "28     5.2\n",
       "29     4.7\n",
       "      ... \n",
       "120    6.9\n",
       "121    5.6\n",
       "122    7.7\n",
       "123    6.3\n",
       "124    6.7\n",
       "125    7.2\n",
       "126    6.2\n",
       "127    6.1\n",
       "128    6.4\n",
       "129    7.2\n",
       "130    7.4\n",
       "131    7.9\n",
       "132    6.4\n",
       "133    6.3\n",
       "134    6.1\n",
       "135    7.7\n",
       "136    6.3\n",
       "137    6.4\n",
       "138    6.0\n",
       "139    6.9\n",
       "140    6.7\n",
       "141    6.9\n",
       "142    5.8\n",
       "143    6.8\n",
       "144    6.7\n",
       "145    6.7\n",
       "146    6.3\n",
       "147    6.5\n",
       "148    6.2\n",
       "149    5.9\n",
       "Name: sepal length (cm), Length: 150, dtype: float64"
      ]
     },
     "execution_count": 67,
     "metadata": {},
     "output_type": "execute_result"
    }
   ],
   "source": []
  },
  {
   "cell_type": "code",
   "execution_count": null,
   "metadata": {},
   "outputs": [],
   "source": []
  },
  {
   "cell_type": "code",
   "execution_count": 62,
   "metadata": {},
   "outputs": [
    {
     "data": {
      "text/plain": [
       "102    7.1\n",
       "92     5.8\n",
       "14     5.8\n",
       "106    4.9\n",
       "71     6.1\n",
       "20     5.4\n",
       "102    7.1\n",
       "121    5.6\n",
       "74     6.4\n",
       "87     6.3\n",
       "116    6.5\n",
       "99     5.7\n",
       "103    6.3\n",
       "130    7.4\n",
       "149    5.9\n",
       "52     6.9\n",
       "1      4.9\n",
       "87     6.3\n",
       "37     4.9\n",
       "129    7.2\n",
       "20     5.4\n",
       "57     4.9\n",
       "21     5.1\n",
       "88     5.6\n",
       "48     5.3\n",
       "58     6.6\n",
       "14     5.8\n",
       "50     7.0\n",
       "107    7.3\n",
       "54     6.5\n",
       "      ... \n",
       "35     5.0\n",
       "12     4.8\n",
       "70     5.9\n",
       "85     6.0\n",
       "27     5.2\n",
       "65     6.7\n",
       "44     5.1\n",
       "61     5.9\n",
       "133    6.3\n",
       "27     5.2\n",
       "27     5.2\n",
       "107    7.3\n",
       "43     5.0\n",
       "83     6.0\n",
       "29     4.7\n",
       "74     6.4\n",
       "127    6.1\n",
       "91     6.1\n",
       "128    6.4\n",
       "120    6.9\n",
       "26     5.0\n",
       "120    6.9\n",
       "115    6.4\n",
       "2      4.7\n",
       "102    7.1\n",
       "136    6.3\n",
       "61     5.9\n",
       "50     7.0\n",
       "58     6.6\n",
       "117    7.7\n",
       "Name: sepal length (cm), Length: 150, dtype: float64"
      ]
     },
     "execution_count": 62,
     "metadata": {},
     "output_type": "execute_result"
    }
   ],
   "source": [
    "X_copy[]=X_copy.iloc[sample_indices,0]"
   ]
  },
  {
   "cell_type": "code",
   "execution_count": null,
   "metadata": {},
   "outputs": [],
   "source": [
    "Parallel(n_jobs=2)(delayed(sqrt)(i ** 2) for i in range(10))\n",
    "[0.0, 1.0, 2.0, 3.0, 4.0, 5.0, 6.0, 7.0, 8.0, 9.0]"
   ]
  },
  {
   "cell_type": "code",
   "execution_count": 32,
   "metadata": {},
   "outputs": [
    {
     "data": {
      "text/plain": [
       "('MT19937', array([ 392125109, 2484610499, 3799659357, 1324804843, 4277310700,\n",
       "        1992885322,   25206204, 2538579276, 3000478664,   33580400,\n",
       "        2977511300,  389169130, 1320058869,  967340381, 3333940759,\n",
       "        2147769357,  855741099, 2779443380,  617335786, 1480955813,\n",
       "        1588474647, 3337193510, 1406519717, 3289137842, 3651162557,\n",
       "         559277058, 4040385842, 3411752592, 3215424951, 3810781696,\n",
       "        3949042591,  467727381, 1769668359, 3107939684,    3255191,\n",
       "        4259273422, 2982590867, 1383657557, 2531721666, 1395616310,\n",
       "        2109611264,  704777820, 1514678241, 1814392588,   57399796,\n",
       "         591730784, 3723206858,  234133572, 2999196590, 4256196854,\n",
       "        3847868334, 1512337886, 2675568720, 1056366592, 3571213207,\n",
       "         707472897, 3829055722, 3812772107, 2804504014, 1419147555,\n",
       "        2557265981, 3895830742, 1995856498, 2899905730, 1883088143,\n",
       "        3742056001, 4152828121, 2764907925, 1561741186, 1973814850,\n",
       "        2867449366, 1358967249, 4182869749,  272898394, 3440022535,\n",
       "        3984473676, 1889614144,  124521280, 3256691495, 1882525516,\n",
       "        2579043321, 1794815566, 3221129285, 3437200672, 2184942746,\n",
       "        3928810657, 3789065007, 3895946637, 3754878795, 3235273183,\n",
       "         114748296, 3434992228, 3901465011, 2504282357, 1688865085,\n",
       "        2479382849, 4173582030, 2709886098, 1671526139, 1986599596,\n",
       "        2935949618, 3487580495, 2649673081,  807616573, 3447009167,\n",
       "         632313843, 4207174883,  325365459, 3457019013, 1190949866,\n",
       "        2818337875,  620583283, 1697114051, 1803196449, 4149702912,\n",
       "        2056633643, 2656124317,   52671191,  459206196, 2022635324,\n",
       "         871054704, 3641151311, 2406816085, 1214192502, 2275842910,\n",
       "         433546938,  592798011,  861669129, 2928805054, 1704477210,\n",
       "        3922580428,  443168650,  530515729, 3294344473, 2904506112,\n",
       "        2476244359, 3781877965, 3058680266, 3220838337, 2338306671,\n",
       "        2271235052, 3087485346, 1547743127, 2749663439, 2752229414,\n",
       "        3785734332, 2659747866, 3522048783,  919239897, 2644313620,\n",
       "         497028604,  671488962,  531795104,  857235678, 2112753484,\n",
       "        3089242044, 1997494607, 4193316481,  434902193, 3936804676,\n",
       "         683836994,  779664729, 1151326587,  753130098, 1921347849,\n",
       "        3250056057,  454290822, 3697619206, 2432854128, 2564003957,\n",
       "        2799665865, 1970077757, 3017226828, 2965846122,  392578088,\n",
       "        1283105516, 3162423974, 2587374937, 1380509853, 3868398123,\n",
       "         356590973, 1029568440, 2948662959, 1645818480, 2268317989,\n",
       "        3029695182, 1358176926,  264802637, 2180329283,  980347265,\n",
       "        4289223508,  431621135,  743264604, 1114176249,   15676387,\n",
       "        2961142010, 1377594934, 1317585699, 3240273721, 2443786257,\n",
       "         673183543, 1260702097, 2309844166, 2768631534, 1269105342,\n",
       "        3118461537, 1144224429, 2512451563, 2427610164, 3302851771,\n",
       "        3930419867, 3078578175, 3224628921, 3061636867, 3047509750,\n",
       "         607975987, 2917453848,  866977599, 1371211453, 3215137116,\n",
       "        1540737370, 2006129951, 4079190108,  161988199, 3428079825,\n",
       "        3159205062, 1256031220, 3293471320, 1549926028, 1615936613,\n",
       "        2272888048, 3324715378, 2154249401, 4012376296, 1420794618,\n",
       "        1240274914, 2984051525,  632183063,  452583745, 3059091662,\n",
       "         928763705, 1600503566,  838672632, 3673090277, 1549520274,\n",
       "        2914795838, 3381347196,  580971885,  516396350, 3322789011,\n",
       "        3159529989, 2578636516, 2637417815, 3399269477, 1169316376,\n",
       "        3749330077, 3595931839, 2699791866, 1485470751, 1314953287,\n",
       "        1877993198, 3873561525, 1544553078, 3878363488, 2708155964,\n",
       "        1364060885,  923404085,  280317126,  390045625,  414847954,\n",
       "        2525492197, 3769869515, 2066467112, 1033315918, 2728363054,\n",
       "        2757660931, 4003560160, 3525943994, 3543069622, 2328293356,\n",
       "        2893780379,   93628098, 2086521784,  396608462, 2318620964,\n",
       "        2661032098, 2885358294, 3189340282, 1421461026, 4210882693,\n",
       "         937674214, 1921359798, 3548449424, 2135879139, 3154949552,\n",
       "        3520400869, 1099492220, 3274468598,  527568496, 3326894229,\n",
       "        3120854004, 1203556154, 1398476191,  588988889,  245021568,\n",
       "        2397140616, 1942873265, 1537815387, 4237248099, 2126530553,\n",
       "        3251709641, 3953531514, 1837493118, 3854706524, 1205239037,\n",
       "        2351401211, 1746347782, 3389203253, 3886210646, 1195891691,\n",
       "         249020386, 2551082713,  927029679, 1965510218, 3442815517,\n",
       "        1743518882, 2949357859, 2179600095,  559572737, 2091902890,\n",
       "        2171791284, 2879370179, 1232544501, 2817481213, 3740516332,\n",
       "        1516519987, 1745133928, 3414615236, 1494084205, 4132651034,\n",
       "        3758083355, 2722093366, 1495570912, 2424862623, 2018328986,\n",
       "          65609950,  523146358, 1608561463, 2948852109,  273861639,\n",
       "        2680961692, 3194038427, 1294114441, 2857645947, 3998408788,\n",
       "        2472047728, 1881651323, 1797411597, 3827395964, 3653075551,\n",
       "        2800686583, 2537816161, 4028673661, 1029047920, 3528718219,\n",
       "        4191367448, 2311268969, 2210640104, 2798115714,   19537518,\n",
       "        1007219059, 1271369242, 4289394987, 4113366760,  732629861,\n",
       "        2747429422, 1430820635,  312511796, 3993441937, 1312393345,\n",
       "        1078095084,  908209699, 3049493420, 1347295669,  543827411,\n",
       "        3145966723, 3778506702, 3817446116, 1238944607, 3020587185,\n",
       "        2093763295, 3503945621,  509679767, 1131223793, 3143559912,\n",
       "        1568353801, 1633710522,  455109877,  153492543, 1791122757,\n",
       "         932945102, 2031122496, 3633895265, 2549297247, 3808882751,\n",
       "         522823324, 3394449827, 3106508271, 2603046294, 3176330747,\n",
       "        2296906938, 1589576958, 3452118306, 3788482329,  313625502,\n",
       "        1222933024, 1602701103, 4061718936, 3729511689, 1968324133,\n",
       "        3826221322, 3561010911, 2253169291,  269183216, 2208933233,\n",
       "        2651766966, 2020537230, 2454206165,    1863712, 2776633970,\n",
       "         297568124, 1697868905, 2413754973, 1422604003, 1081687258,\n",
       "        2042184484, 3574157563, 1220998826, 2183857473, 1948043374,\n",
       "        3952836485, 2786254052, 1167097835, 4178246217, 1994539528,\n",
       "         639027030, 3274228626, 1080901790, 1478485197, 2791916478,\n",
       "        1335032886, 3172414667,   19875669, 1497012361, 2930003600,\n",
       "        1640277345,  797262381, 3897477382,  754060479, 2534841196,\n",
       "         147844746, 2842667717, 3231769487, 2669159849,  195416620,\n",
       "        2724514448, 3276982047, 3093130532, 4207922655,  271445459,\n",
       "        1387465076, 3644651368, 3289060540, 1030749553,   40670154,\n",
       "        2808393601, 2725128833, 4130530840,   19478929,  212058951,\n",
       "        2215356490, 3616251845, 2655696247, 2413430750,  637797382,\n",
       "        4095060349,  853655507,  382235566,  193691837, 3724990851,\n",
       "         608703493, 3369288314, 2720393642,  497473352, 2912316829,\n",
       "        2540260414, 2657925113, 3216448701, 3261557593,  304887691,\n",
       "        3542087104,  994264176, 3487293549,  352291575, 2763454490,\n",
       "        3607642831,  224534894, 2549854984, 1116657137, 1681415757,\n",
       "        3813368976,  190631827, 2181069365,  734195983,  776734669,\n",
       "        3869434905, 1393450270, 3755875616, 3871014951,  371234019,\n",
       "         316309243,  917474311, 1584363762, 3792346142, 1916326148,\n",
       "        1967156757,  146448738, 4288965815, 1914047591, 2633081805,\n",
       "        2872362691, 2757139553,  940731253, 4140477432, 1986440613,\n",
       "        2899491162, 2592603611, 2628760127, 2958148676,  819328555,\n",
       "         515966436,  540528148, 3505062413, 3111717210,  309439287,\n",
       "          55480812, 1565178788,  744132045, 2662358588, 3527365433,\n",
       "        3008242571, 2894957684, 2619003107, 1486554296, 2499889724,\n",
       "        3730151745, 3515077171, 3787420354, 1001100281,   68762868,\n",
       "        2290764758, 3158755244, 1671863488, 3412371747, 3326347219,\n",
       "        4288796962, 3473269483, 2382566541, 3922473329, 2475222374,\n",
       "        1814668771, 3593292223,  835649185, 2917887197, 2594958434,\n",
       "        3706857376, 3814763061, 3732592001, 3708181603, 2882801353,\n",
       "        4111852888, 3368034327,   76869410, 1834687383, 2220473830,\n",
       "        2645855066, 2242030870, 2165744711, 3176718208, 3713510915,\n",
       "        3121545446, 2442190263, 2179809658, 2584498506, 1717723567,\n",
       "         659519377, 1388778590, 3240724862, 4104698106, 2170557336,\n",
       "        3409078579,   42788836, 1439054282, 3986971377, 2316332148,\n",
       "         565141019,  273371702, 2232294210,  700916031, 1886234804,\n",
       "        4137701156, 3713741683, 1033488825,  281908724, 3457732417,\n",
       "         775992435, 2067229552,  286944016,  545421956,  433250636,\n",
       "        2181664738,  343338695, 1129713705, 4089932863], dtype=uint32), 10, 0, 0.0)"
      ]
     },
     "execution_count": 32,
     "metadata": {},
     "output_type": "execute_result"
    }
   ],
   "source": [
    "random.get_state()"
   ]
  },
  {
   "cell_type": "code",
   "execution_count": null,
   "metadata": {},
   "outputs": [],
   "source": []
  }
 ],
 "metadata": {
  "kernelspec": {
   "display_name": "ml_tooling",
   "language": "python",
   "name": "ml_tooling"
  },
  "language_info": {
   "codemirror_mode": {
    "name": "ipython",
    "version": 3
   },
   "file_extension": ".py",
   "mimetype": "text/x-python",
   "name": "python",
   "nbconvert_exporter": "python",
   "pygments_lexer": "ipython3",
   "version": "3.6.6"
  }
 },
 "nbformat": 4,
 "nbformat_minor": 2
}
